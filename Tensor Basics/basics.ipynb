{
 "cells": [
  {
   "attachments": {},
   "cell_type": "markdown",
   "metadata": {},
   "source": [
    "Tensors are multidimensional arrays. Here we have a collection of methods and properties that are really useful when we're working with them."
   ]
  },
  {
   "cell_type": "code",
   "execution_count": 20,
   "metadata": {},
   "outputs": [
    {
     "name": "stdout",
     "output_type": "stream",
     "text": [
      "0 Dimensions\n",
      "1 Dimensions\n",
      "2 Dimensions\n",
      "3 Dimensions\n"
     ]
    }
   ],
   "source": [
    "import tensorflow as tf\n",
    "\n",
    "# Zero Dimensional Tensor\n",
    "tensor_zero_d = tf.constant(4)\n",
    "print(str(tensor_zero_d.ndim) + \" Dimensions\")\n",
    "\n",
    "# 1 Dimensional Tensor\n",
    "tensor_one_d = tf.constant([1, -5, 4])\n",
    "print(str(tensor_one_d.ndim) + \" Dimensions\")\n",
    "\n",
    "\n",
    "# 2 Dimensional Tensor\n",
    "tensor_2d = tf.constant([[1, -5, 4], [1, 2, 0]])\n",
    "print(str(tensor_2d.ndim) + \" Dimensions\")\n",
    "\n",
    "# 3 Dimensional Tensor\n",
    "tensor_3d = tf.constant([[[1, -5, 4], [1, 2, 0]], [[1, -5, 4], [1, 2, 0]]])\n",
    "print(str(tensor_3d.ndim) + \" Dimensions\")\n",
    "\n"
   ]
  },
  {
   "cell_type": "code",
   "execution_count": 21,
   "metadata": {},
   "outputs": [
    {
     "name": "stdout",
     "output_type": "stream",
     "text": [
      "tf.Tensor([ 1.18 -5.5   4.3 ], shape=(3,), dtype=float32)\n",
      "tf.Tensor([ 1 -5  4], shape=(3,), dtype=int32)\n",
      "tf.Tensor([b'hello' b'world'], shape=(2,), dtype=string)\n"
     ]
    }
   ],
   "source": [
    "# 1D Tensor with a specific type\n",
    "tensor_one_d_floats = tf.constant([1.18, -5.5, 4.3], dtype=tf.float32)\n",
    "print(tensor_one_d_floats)\n",
    "\n",
    "# Is possible to cast a tensor frome one type to another\n",
    "casted_tensor = tf.cast(tensor_one_d, tf.int32)\n",
    "print(casted_tensor)\n",
    "\n",
    "# Even non-numeric values like boolean or string types are available\n",
    "tensor_one_d_string = tf.constant([\"hello\",\"world\"])\n",
    "print(tensor_one_d_string)\n"
   ]
  },
  {
   "cell_type": "code",
   "execution_count": 22,
   "metadata": {},
   "outputs": [
    {
     "name": "stdout",
     "output_type": "stream",
     "text": [
      "<class 'numpy.ndarray'>\n",
      "tf.Tensor([1 2 3], shape=(3,), dtype=int32)\n"
     ]
    }
   ],
   "source": [
    "import numpy as np\n",
    "\n",
    "# Is possible to convert np arrays to tensors\n",
    "np_arr = np.array([1, 2, 3])\n",
    "nparr_to_tensor = tf.convert_to_tensor(np_arr)\n",
    "\n",
    "print(type(np_arr))\n",
    "print(nparr_to_tensor)"
   ]
  },
  {
   "cell_type": "code",
   "execution_count": 23,
   "metadata": {},
   "outputs": [
    {
     "name": "stdout",
     "output_type": "stream",
     "text": [
      "tf.Tensor(\n",
      "[[[1. 0. 0.]\n",
      "  [0. 1. 0.]\n",
      "  [0. 0. 1.]]\n",
      "\n",
      " [[1. 0. 0.]\n",
      "  [0. 1. 0.]\n",
      "  [0. 0. 1.]]], shape=(2, 3, 3), dtype=float32)\n"
     ]
    }
   ],
   "source": [
    "# tf.eye  Allows us to construct an identity matrix, \n",
    "# or a batch of matrices.  More info:\n",
    "# https://www.tensorflow.org/api_docs/python/tf/eye\n",
    "\n",
    "eye_tensor = tf.eye(\n",
    "    num_rows=3,\n",
    "    num_columns=None,\n",
    "    batch_shape=[2,],\n",
    "    dtype=tf.dtypes.float32,\n",
    "    name=None\n",
    ")\n",
    "print(eye_tensor)\n"
   ]
  },
  {
   "cell_type": "code",
   "execution_count": 24,
   "metadata": {},
   "outputs": [
    {
     "name": "stdout",
     "output_type": "stream",
     "text": [
      "tf.Tensor(\n",
      "[[5 5 5 5]\n",
      " [5 5 5 5]\n",
      " [5 5 5 5]], shape=(3, 4), dtype=int32)\n"
     ]
    }
   ],
   "source": [
    "# tf.fill Creates a tensor filled with a scalar value. \n",
    "# More info:\n",
    "# https://www.tensorflow.org/api_docs/python/tf/fill\n",
    "\n",
    "scalar_tensor = tf.fill(dims=[3,4], value=5, name=None)\n",
    "\n",
    "print(scalar_tensor)\n"
   ]
  },
  {
   "cell_type": "code",
   "execution_count": 25,
   "metadata": {},
   "outputs": [
    {
     "name": "stdout",
     "output_type": "stream",
     "text": [
      "tf.Tensor(\n",
      "[[1. 1. 1.]\n",
      " [1. 1. 1.]\n",
      " [1. 1. 1.]\n",
      " [1. 1. 1.]\n",
      " [1. 1. 1.]], shape=(5, 3), dtype=float32)\n"
     ]
    }
   ],
   "source": [
    "# tf.ones Creates a tensor filled with a scalar value. \n",
    "# More info:\n",
    "# https://www.tensorflow.org/api_docs/python/tf/ones\n",
    "\n",
    "ones_tensor = tf.ones(\n",
    "    shape=[5,3],\n",
    "    dtype=tf.dtypes.float32,\n",
    "    name=None\n",
    ")\n",
    "print(ones_tensor)\n"
   ]
  },
  {
   "cell_type": "code",
   "execution_count": 26,
   "metadata": {},
   "outputs": [
    {
     "name": "stdout",
     "output_type": "stream",
     "text": [
      "tf.Tensor(\n",
      "[[1 2 3]\n",
      " [3 4 5]], shape=(2, 3), dtype=int32)\n",
      "tf.Tensor(\n",
      "[[1. 1. 1.]\n",
      " [1. 1. 1.]], shape=(2, 3), dtype=float32)\n",
      "shapes: (2, 3) (2, 3)\n"
     ]
    }
   ],
   "source": [
    "# tf.oneslike Creates a tensor of all ones that has the same shape as the input.\n",
    "# More info:\n",
    "# https://www.tensorflow.org/api_docs/python/tf/ones_like\n",
    "\n",
    "input_tensor = tf.constant([[1,2,3],\n",
    "                            [3,4,5]])\n",
    "\n",
    "print(input_tensor)\n",
    "\n",
    "ones_like_tensor = tf.ones_like(\n",
    "    input_tensor, dtype=tf.dtypes.float32, name=None\n",
    ")\n",
    "\n",
    "print(ones_like_tensor)\n",
    "print(\"shapes:\", input_tensor.shape, ones_like_tensor.shape)"
   ]
  },
  {
   "cell_type": "code",
   "execution_count": 27,
   "metadata": {},
   "outputs": [
    {
     "name": "stdout",
     "output_type": "stream",
     "text": [
      "tf.Tensor(3, shape=(), dtype=int32)\n",
      "tf.Tensor([2 2 3], shape=(3,), dtype=int32)\n",
      "tf.Tensor(12, shape=(), dtype=int32)\n"
     ]
    }
   ],
   "source": [
    "# rank, shape and size returns different constant aspects related to the tensor.\n",
    "\n",
    "\n",
    "t = tf.constant([[[1, 1, 1], [2, 2, 2]], [[3, 3, 3], [4, 4, 4]]])\n",
    "\n",
    "# Rank -> Returns a 0-D int32 Tensor representing the rank of input.\n",
    "print(tf.rank(t)) # 3\n",
    "\n",
    "# Shape -> Returns a 1-D integer tensor representing the shape of input.\n",
    "print(tf.shape(t)) # [2 2 3]\n",
    "\n",
    "# Size -> Returns a 0-D Tensor representing the number of \n",
    "# elements in input of type out_type.\n",
    "print(tf.size(t)) # 12\n",
    "\n"
   ]
  },
  {
   "cell_type": "code",
   "execution_count": 28,
   "metadata": {},
   "outputs": [
    {
     "name": "stdout",
     "output_type": "stream",
     "text": [
      "tf.Tensor(\n",
      "[[ 1.1011236   0.78853023  0.99086285]\n",
      " [-0.23330519  0.4722398   0.11457973]\n",
      " [-0.11979075 -1.8208897   1.36758   ]], shape=(3, 3), dtype=float32)\n",
      "tf.Tensor(\n",
      "[[0.45418787 0.02165043]\n",
      " [0.30716765 0.17651904]], shape=(2, 2), dtype=float32)\n"
     ]
    }
   ],
   "source": [
    "# random.normal and random.uniform  Outputs random values from \n",
    "# a normal distribution and uniform distribution respectively\n",
    "# both allows us to set a seed to reproduce results in a predictible manner\n",
    "\n",
    "rand_normal = tf.random.normal(\n",
    "    [3,3],\n",
    "    mean=0.0,\n",
    "    stddev=1.0,\n",
    "    dtype=tf.dtypes.float32,\n",
    "    seed=None,\n",
    "    name=None\n",
    ")\n",
    "\n",
    "rand_uniform = tf.random.uniform(\n",
    "    [2,2],\n",
    "    minval=0,\n",
    "    maxval=1,\n",
    "    dtype=tf.dtypes.float32,\n",
    "    seed=None,\n",
    "    name=None\n",
    ")\n",
    "\n",
    "\n",
    "print(rand_normal)\n",
    "print(rand_uniform)\n"
   ]
  },
  {
   "cell_type": "code",
   "execution_count": 29,
   "metadata": {},
   "outputs": [
    {
     "name": "stdout",
     "output_type": "stream",
     "text": [
      "tf.Tensor(1, shape=(), dtype=int32)\n",
      "tf.Tensor([2 3 4], shape=(3,), dtype=int32)\n",
      "tf.Tensor([[ 6 -4 12]], shape=(1, 3), dtype=int32)\n"
     ]
    }
   ],
   "source": [
    "#Just like arrays, we can use indices/slices in Tensors.\n",
    "\n",
    "tensor_indexed = tf.constant([1,2,3,4])\n",
    "print(tensor_indexed[0])\n",
    "print(tensor_indexed[1:3+1])\n",
    "\n",
    "#Works for a n-Dimensional Tensors\n",
    "\n",
    "#2D example\n",
    "tensor_two_d = tf.constant([[1,2,0],\n",
    "                            [6,-4,12],\n",
    "                            [7,6,1],\n",
    "                            [12,-14,6]])\n",
    "print(tensor_two_d[1:2,0:3])"
   ]
  },
  {
   "attachments": {},
   "cell_type": "markdown",
   "metadata": {},
   "source": [
    "Created by Jhonatan Rivera Saumeth  - Based on the extraordinary course of freecodecamp.org [Deep Learning for Computer Vision](https://www.youtube.com/watch?v=IA3WxTTPXqQ)"
   ]
  }
 ],
 "metadata": {
  "kernelspec": {
   "display_name": "Python 3",
   "language": "python",
   "name": "python3"
  },
  "language_info": {
   "codemirror_mode": {
    "name": "ipython",
    "version": 3
   },
   "file_extension": ".py",
   "mimetype": "text/x-python",
   "name": "python",
   "nbconvert_exporter": "python",
   "pygments_lexer": "ipython3",
   "version": "3.10.11"
  },
  "orig_nbformat": 4
 },
 "nbformat": 4,
 "nbformat_minor": 2
}
