{
 "cells": [
  {
   "attachments": {},
   "cell_type": "markdown",
   "metadata": {},
   "source": [
    "Just as mentioned, Tensors represent an n-dimensional array, in that sense, you can represent a Tensor as a Vector, which means that you can use linear algebra operations to transform them."
   ]
  },
  {
   "cell_type": "code",
   "execution_count": 1,
   "metadata": {},
   "outputs": [
    {
     "name": "stdout",
     "output_type": "stream",
     "text": [
      "tf.Tensor([1 1 2 0], shape=(4,), dtype=int32)\n",
      "tf.Tensor([7.24499827], shape=(1,), dtype=float64)\n"
     ]
    }
   ],
   "source": [
    "import tensorflow as tf\n",
    "\n",
    "tensor = tf.constant([1, -1, 2, 0])\n",
    "\n",
    "# tf.abs Computes the absolute value of a tensor.\n",
    "real_tensor_abs = tf.abs(tensor)\n",
    "print(real_tensor_abs)\n",
    "\n",
    "# Works with tensors that have complex elements\n",
    "complex_tensor = tf.constant([-2.5 + 6.8j])\n",
    "complex_tensor_abs = tf.abs(complex_tensor)\n",
    "print(complex_tensor_abs)\n"
   ]
  },
  {
   "cell_type": "code",
   "execution_count": 13,
   "metadata": {},
   "outputs": [
    {
     "name": "stdout",
     "output_type": "stream",
     "text": [
      "tf.Tensor([5 5 5 5 5], shape=(5,), dtype=int32)\n",
      "tf.Tensor([4 6 6 4 0], shape=(5,), dtype=int32)\n",
      "tf.Tensor([ 6  7  8  9 10], shape=(5,), dtype=int32)\n",
      "tf.Tensor([ 5 10 15 20 25], shape=(5,), dtype=int32)\n"
     ]
    }
   ],
   "source": [
    "# tf.add Returns x + y element-wise\n",
    "\n",
    "# For Tensors that share dimensions works like vector addition\n",
    "v1 = tf.constant([1, 2, 3, 4, 5])\n",
    "v2 = tf.constant([4, 3, 2, 1, 0])\n",
    "\n",
    "v_add_res = tf.add(v1, v2)\n",
    "print(v_add_res)\n",
    "\n",
    "# Multiplication is another option\n",
    "v_mult_res = tf.multiply(v1, v2)\n",
    "print(v_mult_res)\n",
    "\n",
    "# Add/Multiply using a constant (scalar)\n",
    "k = tf.constant([5])\n",
    "v_add_k = tf.add(k, v1)\n",
    "v_mult_k = tf.multiply(k, v1)\n",
    "print(v_add_k)\n",
    "print(v_mult_k)\n",
    "\n",
    "\n"
   ]
  },
  {
   "cell_type": "code",
   "execution_count": null,
   "metadata": {},
   "outputs": [],
   "source": [
    "# Substract and Divide \n",
    "print(tf.subtract(v1, v2))\n",
    "print(tf.divide(v1, v2))\n",
    "\n",
    "# Safe division (takes care if you got a 0 in denominator)\n",
    "float_v1 = tf.cast(v1,dtype=tf.float32)\n",
    "float_v2 = tf.cast(v2,dtype=tf.float32)\n",
    "print(tf.math.divide_no_nan(float_v1, float_v2))\n",
    "\n",
    "#This multiplications create a Tensor with a shape of (3,5)\n",
    "v3 = tf.constant([[7],[5],[3]])\n",
    "print(v1.shape)\n",
    "print(v3.shape)\n",
    "print(tf.multiply(v1,v3))"
   ]
  },
  {
   "cell_type": "code",
   "execution_count": 20,
   "metadata": {},
   "outputs": [
    {
     "name": "stdout",
     "output_type": "stream",
     "text": [
      "tf.Tensor(2, shape=(), dtype=int64)\n",
      "tf.Tensor(0, shape=(), dtype=int64)\n",
      "tf.Tensor([2 2 0 2 2], shape=(5,), dtype=int64)\n",
      "tf.Tensor([2 2 1], shape=(3,), dtype=int64)\n"
     ]
    }
   ],
   "source": [
    "# tf.math.argmax / tf.math.argmin\n",
    "# Returns the index with the largest/shortest value across axes of a tensor.\n",
    "x_argmax = tf.constant([1, 2, 10, 3, 4])\n",
    "print(tf.argmax(x_argmax))\n",
    "print(tf.argmin(x_argmax))\n",
    "\n",
    "\n",
    "# Is posible to fix the axis\n",
    "x_argmax_axis_fixed = tf.constant([[2, 20, 30, 3, 6], \n",
    "                        [3, 11, 16, 1, 8], \n",
    "                        [14, 45, 23, 5, 27]])\n",
    "\n",
    "print(tf.argmax(x_argmax_axis_fixed, 0)) #\"By cols\"\n",
    "print(tf.argmax(x_argmax_axis_fixed, 1)) #\"By rows\"\n"
   ]
  },
  {
   "cell_type": "code",
   "execution_count": 35,
   "metadata": {},
   "outputs": [
    {
     "name": "stdout",
     "output_type": "stream",
     "text": [
      "tf.Tensor(\n",
      "[[  256 65536]\n",
      " [    9    27]], shape=(2, 2), dtype=int32)\n",
      "tf.Tensor(\n",
      "[[1 2 3]\n",
      " [1 2 3]], shape=(2, 3), dtype=int32)\n",
      "tf.Tensor(12, shape=(), dtype=int32)\n",
      "tf.Tensor([2 4 6], shape=(3,), dtype=int32)\n",
      "tf.Tensor([6 6], shape=(2,), dtype=int32)\n"
     ]
    }
   ],
   "source": [
    "# tf.math.equal Returns the truth value of (x == y) element-wise.x = tf.constant([2, 4])\n",
    "t_equal_arg1 = tf.constant([2, 4])\n",
    "t_equal_arg2 = tf.constant(2) # broadcasting to [2,2]\n",
    "tf.math.equal(t_equal_arg1, t_equal_arg2) \n",
    "\n",
    "\n",
    "# tf.math.power Computes the power of one value to another.\n",
    "x = tf.constant([[2, 2], [3, 3]])\n",
    "y = tf.constant([[8, 16], [2, 3]])\n",
    "print(tf.pow(x, y))  # [[256, 65536], [9, 27]]\n",
    "\n",
    "\n",
    "#tf.math.reduce_sum Computes the sum of elements across dimensions of a tensor.\n",
    "# reduce_sum_arg has a shape of (2, 3) (two rows and three columns):\n",
    "reduce_sum_arg = tf.constant([[1, 2, 3], [1, 2, 3]])\n",
    "print(reduce_sum_arg)\n",
    "# sum all the elements\n",
    "# 1 + 2 + 3 + 1 + 2 + 3 = 12\n",
    "print(tf.reduce_sum(reduce_sum_arg))\n",
    "\n",
    "#axis can be fixed\n",
    "print(tf.reduce_sum(reduce_sum_arg, 0))\n",
    "print(tf.reduce_sum(reduce_sum_arg, 1))\n"
   ]
  },
  {
   "cell_type": "code",
   "execution_count": 38,
   "metadata": {},
   "outputs": [
    {
     "name": "stdout",
     "output_type": "stream",
     "text": [
      "TopKV2(values=<tf.Tensor: shape=(4,), dtype=int32, numpy=array([99, 98, 96,  4])>, indices=<tf.Tensor: shape=(4,), dtype=int32, numpy=array([ 5,  2,  9, 10])>)\n"
     ]
    }
   ],
   "source": [
    "#tf.math.top_k returns the top k \n",
    "top_k_values = tf.math.top_k([1, 2, 98, 1, 1, 99, 3, 1, 3, 96, 4, 1],\n",
    "                        k=4)\n",
    "print(top_k_values)\n"
   ]
  },
  {
   "attachments": {},
   "cell_type": "markdown",
   "metadata": {},
   "source": [
    "Created by Jhonatan Rivera Saumeth  - Based on the extraordinary course of freecodecamp.org [Deep Learning for Computer Vision](https://www.youtube.com/watch?v=IA3WxTTPXqQ)"
   ]
  }
 ],
 "metadata": {
  "kernelspec": {
   "display_name": "Python 3",
   "language": "python",
   "name": "python3"
  },
  "language_info": {
   "codemirror_mode": {
    "name": "ipython",
    "version": 3
   },
   "file_extension": ".py",
   "mimetype": "text/x-python",
   "name": "python",
   "nbconvert_exporter": "python",
   "pygments_lexer": "ipython3",
   "version": "3.10.11"
  },
  "orig_nbformat": 4
 },
 "nbformat": 4,
 "nbformat_minor": 2
}
